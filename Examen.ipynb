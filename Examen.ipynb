{
 "cells": [
  {
   "cell_type": "code",
   "execution_count": 56,
   "metadata": {},
   "outputs": [],
   "source": [
    "import pandas as pd\n",
    "import numpy as np\n",
    "import matplotlib.pyplot as plt\n",
    "import seaborn as sns\n",
    "from scipy.optimize import minimize"
   ]
  },
  {
   "cell_type": "code",
   "execution_count": 46,
   "metadata": {},
   "outputs": [],
   "source": [
    "%config InlineBackend.figure_format = \"retina\""
   ]
  },
  {
   "cell_type": "code",
   "execution_count": 47,
   "metadata": {},
   "outputs": [],
   "source": [
    "rf = 0.05\n",
    "pri_r = 0.1\n",
    "A_riesgo = 3"
   ]
  },
  {
   "cell_type": "code",
   "execution_count": 219,
   "metadata": {},
   "outputs": [],
   "source": [
    "port_path = \"Prueba.xlsx\"\n",
    "acciones = [\"ASURB MF Equity\", \"BIMBOA MF Equity\", \"CEMEXCPO MF Equity\", \"ALSEA* MF Equity\", \"PE&OLES* MF Equity\", \"WALMEX* MF Equity\", \"GENTERA* MF Equity\"]\n",
    "data = pd.read_excel(port_path, index_col=0)[acciones + [\"MEXBOL INDEX\"]]\n",
    "data.columns = [col.replace(\" MF Equity\", \"\") for col in data.columns]\n",
    "rend = data.pct_change().dropna()"
   ]
  },
  {
   "cell_type": "markdown",
   "metadata": {},
   "source": [
    "# 1.a Rendimiento promedio diario"
   ]
  },
  {
   "cell_type": "code",
   "execution_count": 220,
   "metadata": {},
   "outputs": [
    {
     "data": {
      "text/plain": [
       "ASURB       0.000490\n",
       "BIMBOA     -0.000132\n",
       "CEMEXCPO    0.000020\n",
       "ALSEA*     -0.000019\n",
       "PE&OLES*    0.000441\n",
       "WALMEX*     0.000327\n",
       "GENTERA*   -0.000284\n",
       "dtype: float64"
      ]
     },
     "execution_count": 220,
     "metadata": {},
     "output_type": "execute_result"
    }
   ],
   "source": [
    "rend.mean()[:-1]"
   ]
  },
  {
   "cell_type": "markdown",
   "metadata": {},
   "source": [
    "# 1.a Rendimiento promedio anual"
   ]
  },
  {
   "cell_type": "code",
   "execution_count": 221,
   "metadata": {},
   "outputs": [
    {
     "data": {
      "text/plain": [
       "ASURB       0.123539\n",
       "BIMBOA     -0.033289\n",
       "CEMEXCPO    0.005054\n",
       "ALSEA*     -0.004718\n",
       "PE&OLES*    0.111053\n",
       "WALMEX*     0.082426\n",
       "GENTERA*   -0.071630\n",
       "dtype: float64"
      ]
     },
     "execution_count": 221,
     "metadata": {},
     "output_type": "execute_result"
    }
   ],
   "source": [
    "rend.mean()[:-1] * 252"
   ]
  },
  {
   "cell_type": "code",
   "execution_count": 222,
   "metadata": {},
   "outputs": [],
   "source": [
    "Phi = rend.iloc[:, :-1].values\n",
    "t = rend.iloc[:, [-1]]\n",
    "N, M = Phi.shape\n",
    "\n",
    "I = np.concatenate([np.identity(M)] * 2, axis=1)\n",
    "I = np.concatenate([I] * 2, axis=0)\n",
    "\n",
    "P = np.ones((N, M))\n",
    "P = np.c_[P, Phi]"
   ]
  },
  {
   "cell_type": "code",
   "execution_count": 223,
   "metadata": {},
   "outputs": [],
   "source": [
    "W = np.linalg.inv((P.T @ P) * I) @ P.T @ t\n",
    "W[\"security\"]  = np.concatenate([rend.columns[:-1]] * 2)\n",
    "W[\"param\"] = [\"alpha\"] * M + [\"beta\"] * M\n",
    "B = W.pivot_table(index=\"security\", columns=\"param\", values=\"MEXBOL INDEX\")"
   ]
  },
  {
   "cell_type": "markdown",
   "metadata": {},
   "source": [
    "# 1.b Rendimiento CAPM diario"
   ]
  },
  {
   "cell_type": "code",
   "execution_count": 225,
   "metadata": {},
   "outputs": [
    {
     "data": {
      "text/plain": [
       "security\n",
       "ALSEA*      0.000296\n",
       "ASURB       0.000313\n",
       "BIMBOA      0.000307\n",
       "CEMEXCPO    0.000298\n",
       "GENTERA*    0.000265\n",
       "PE&OLES*    0.000251\n",
       "WALMEX*     0.000314\n",
       "Name: beta, dtype: float64"
      ]
     },
     "execution_count": 225,
     "metadata": {},
     "output_type": "execute_result"
    }
   ],
   "source": [
    "(rf + B[\"beta\"] * pri_r) / 252"
   ]
  },
  {
   "cell_type": "markdown",
   "metadata": {},
   "source": [
    "# 1.b Rendimiento CAPM anual"
   ]
  },
  {
   "cell_type": "code",
   "execution_count": 226,
   "metadata": {},
   "outputs": [
    {
     "data": {
      "text/plain": [
       "security\n",
       "ALSEA*      0.074710\n",
       "ASURB       0.078961\n",
       "BIMBOA      0.077345\n",
       "CEMEXCPO    0.075109\n",
       "GENTERA*    0.066750\n",
       "PE&OLES*    0.063276\n",
       "WALMEX*     0.079112\n",
       "Name: beta, dtype: float64"
      ]
     },
     "execution_count": 226,
     "metadata": {},
     "output_type": "execute_result"
    }
   ],
   "source": [
    "rf + B[\"beta\"] * pri_r"
   ]
  },
  {
   "cell_type": "markdown",
   "metadata": {},
   "source": [
    "# 1.b.i Betas"
   ]
  },
  {
   "cell_type": "code",
   "execution_count": 227,
   "metadata": {},
   "outputs": [
    {
     "data": {
      "text/plain": [
       "security\n",
       "ALSEA*      0.247096\n",
       "ASURB       0.289610\n",
       "BIMBOA      0.273451\n",
       "CEMEXCPO    0.251091\n",
       "GENTERA*    0.167495\n",
       "PE&OLES*    0.132759\n",
       "WALMEX*     0.291118\n",
       "Name: beta, dtype: float64"
      ]
     },
     "execution_count": 227,
     "metadata": {},
     "output_type": "execute_result"
    }
   ],
   "source": [
    "B[\"beta\"]"
   ]
  },
  {
   "cell_type": "markdown",
   "metadata": {},
   "source": [
    "# 1.b.ii Defensivas y agresivas"
   ]
  },
  {
   "cell_type": "markdown",
   "metadata": {},
   "source": [
    "Todas las acciones son defensivas, debido a que su beta es menor a 1 (su variación respecto al mercado es acotada)"
   ]
  },
  {
   "cell_type": "markdown",
   "metadata": {},
   "source": [
    "# 2. Matriz varianza y covarianza"
   ]
  },
  {
   "cell_type": "code",
   "execution_count": 228,
   "metadata": {},
   "outputs": [
    {
     "data": {
      "text/html": [
       "<div>\n",
       "<style scoped>\n",
       "    .dataframe tbody tr th:only-of-type {\n",
       "        vertical-align: middle;\n",
       "    }\n",
       "\n",
       "    .dataframe tbody tr th {\n",
       "        vertical-align: top;\n",
       "    }\n",
       "\n",
       "    .dataframe thead th {\n",
       "        text-align: right;\n",
       "    }\n",
       "</style>\n",
       "<table border=\"1\" class=\"dataframe\">\n",
       "  <thead>\n",
       "    <tr style=\"text-align: right;\">\n",
       "      <th></th>\n",
       "      <th>ASURB</th>\n",
       "      <th>BIMBOA</th>\n",
       "      <th>CEMEXCPO</th>\n",
       "      <th>ALSEA*</th>\n",
       "      <th>PE&amp;OLES*</th>\n",
       "      <th>WALMEX*</th>\n",
       "      <th>GENTERA*</th>\n",
       "    </tr>\n",
       "  </thead>\n",
       "  <tbody>\n",
       "    <tr>\n",
       "      <td>ASURB</td>\n",
       "      <td>0.000224</td>\n",
       "      <td>0.000052</td>\n",
       "      <td>0.000085</td>\n",
       "      <td>0.000053</td>\n",
       "      <td>0.000061</td>\n",
       "      <td>0.000036</td>\n",
       "      <td>0.000068</td>\n",
       "    </tr>\n",
       "    <tr>\n",
       "      <td>BIMBOA</td>\n",
       "      <td>0.000052</td>\n",
       "      <td>0.000237</td>\n",
       "      <td>0.000079</td>\n",
       "      <td>0.000064</td>\n",
       "      <td>0.000088</td>\n",
       "      <td>0.000049</td>\n",
       "      <td>0.000070</td>\n",
       "    </tr>\n",
       "    <tr>\n",
       "      <td>CEMEXCPO</td>\n",
       "      <td>0.000085</td>\n",
       "      <td>0.000079</td>\n",
       "      <td>0.000411</td>\n",
       "      <td>0.000064</td>\n",
       "      <td>0.000101</td>\n",
       "      <td>0.000048</td>\n",
       "      <td>0.000110</td>\n",
       "    </tr>\n",
       "    <tr>\n",
       "      <td>ALSEA*</td>\n",
       "      <td>0.000053</td>\n",
       "      <td>0.000064</td>\n",
       "      <td>0.000064</td>\n",
       "      <td>0.000235</td>\n",
       "      <td>0.000044</td>\n",
       "      <td>0.000057</td>\n",
       "      <td>0.000084</td>\n",
       "    </tr>\n",
       "    <tr>\n",
       "      <td>PE&amp;OLES*</td>\n",
       "      <td>0.000061</td>\n",
       "      <td>0.000088</td>\n",
       "      <td>0.000101</td>\n",
       "      <td>0.000044</td>\n",
       "      <td>0.000548</td>\n",
       "      <td>0.000041</td>\n",
       "      <td>0.000088</td>\n",
       "    </tr>\n",
       "    <tr>\n",
       "      <td>WALMEX*</td>\n",
       "      <td>0.000036</td>\n",
       "      <td>0.000049</td>\n",
       "      <td>0.000048</td>\n",
       "      <td>0.000057</td>\n",
       "      <td>0.000041</td>\n",
       "      <td>0.000215</td>\n",
       "      <td>0.000063</td>\n",
       "    </tr>\n",
       "    <tr>\n",
       "      <td>GENTERA*</td>\n",
       "      <td>0.000068</td>\n",
       "      <td>0.000070</td>\n",
       "      <td>0.000110</td>\n",
       "      <td>0.000084</td>\n",
       "      <td>0.000088</td>\n",
       "      <td>0.000063</td>\n",
       "      <td>0.000425</td>\n",
       "    </tr>\n",
       "  </tbody>\n",
       "</table>\n",
       "</div>"
      ],
      "text/plain": [
       "             ASURB    BIMBOA  CEMEXCPO    ALSEA*  PE&OLES*   WALMEX*  GENTERA*\n",
       "ASURB     0.000224  0.000052  0.000085  0.000053  0.000061  0.000036  0.000068\n",
       "BIMBOA    0.000052  0.000237  0.000079  0.000064  0.000088  0.000049  0.000070\n",
       "CEMEXCPO  0.000085  0.000079  0.000411  0.000064  0.000101  0.000048  0.000110\n",
       "ALSEA*    0.000053  0.000064  0.000064  0.000235  0.000044  0.000057  0.000084\n",
       "PE&OLES*  0.000061  0.000088  0.000101  0.000044  0.000548  0.000041  0.000088\n",
       "WALMEX*   0.000036  0.000049  0.000048  0.000057  0.000041  0.000215  0.000063\n",
       "GENTERA*  0.000068  0.000070  0.000110  0.000084  0.000088  0.000063  0.000425"
      ]
     },
     "execution_count": 228,
     "metadata": {},
     "output_type": "execute_result"
    }
   ],
   "source": [
    "rend = rend.iloc[:,:-1]\n",
    "rend.cov()"
   ]
  },
  {
   "cell_type": "code",
   "execution_count": 229,
   "metadata": {},
   "outputs": [],
   "source": [
    "def port_rend(weights, r):\n",
    "    E_p = (r.mean() @ weights) * 252\n",
    "    return E_p\n",
    "\n",
    "def port_vol(weights, r):\n",
    "    S_p = np.sqrt(weights.T @ (r.cov() * 252) @ weights)\n",
    "    return S_p"
   ]
  },
  {
   "cell_type": "code",
   "execution_count": 230,
   "metadata": {},
   "outputs": [],
   "source": [
    "weights_sim = np.random.random((5000, rend.shape[1]))\n",
    "weights_sim = weights_sim / weights_sim.sum(axis=1, keepdims=True)\n",
    "\n",
    "rend_sim = np.apply_along_axis(port_rend, 1, weights_sim, r=rend)\n",
    "vol_sim = np.apply_along_axis(port_vol, 1, weights_sim, r=rend)"
   ]
  },
  {
   "cell_type": "code",
   "execution_count": 231,
   "metadata": {},
   "outputs": [],
   "source": [
    "N, M = rend.shape\n",
    "w0  = np.random.randn(M)\n",
    "w0 = w0 / w0.sum()\n",
    "\n",
    "def sum_weights(weights):\n",
    "    return weights.sum() - 1 # == 0\n",
    "\n",
    "def rend_esperado(w, E):\n",
    "    return port_rend(w, rend) - E # == 0\n",
    "\n",
    "constraints = [\n",
    "    {\"type\": \"eq\", \"fun\": sum_weights}\n",
    "]\n",
    "\n",
    "port0 = minimize(port_vol, w0, constraints=constraints, args=rend)\n",
    "wp0 = port0.x"
   ]
  },
  {
   "cell_type": "markdown",
   "metadata": {},
   "source": [
    "# 3. Frontera de mínima varianza"
   ]
  },
  {
   "cell_type": "code",
   "execution_count": 232,
   "metadata": {},
   "outputs": [
    {
     "data": {
      "image/png": "[encoded data removed]",
      "text/plain": [
       "<Figure size 432x288 with 1 Axes>"
      ]
     },
     "metadata": {
      "image/png": {
       "height": 248,
       "width": 386
      },
      "needs_background": "light"
     },
     "output_type": "display_data"
    }
   ],
   "source": [
    "rend_ports = rend.mean() * 252\n",
    "r_min = rend_ports.min()\n",
    "r_max = rend_ports.max()\n",
    "\n",
    "rend_max = np.linspace(r_min, r_max)\n",
    "\n",
    "pesos_optimos = []\n",
    "for e in rend_max:\n",
    "    constraints = [\n",
    "        {\"type\": \"eq\", \"fun\": sum_weights},\n",
    "        {\"type\": \"eq\", \"fun\": lambda w: rend_esperado(w, e)}\n",
    "    ]\n",
    "\n",
    "    port1 = minimize(port_vol, w0, constraints=constraints, args=rend)\n",
    "    w_opt = port1.x\n",
    "    pesos_optimos.append(w_opt)\n",
    "\n",
    "r_opt = []\n",
    "v_opt = []\n",
    "for w in pesos_optimos:\n",
    "    r_opt.append(port_rend(w, rend))\n",
    "    v_opt.append(port_vol(w, rend))\n",
    "\n",
    "r_opt = np.array(r_opt)\n",
    "v_opt = np.array(v_opt)\n",
    "\n",
    "plt.scatter(v_opt, r_opt, label=\"Frontera de mínima varianza\");\n",
    "plt.legend(fontsize=12);"
   ]
  },
  {
   "cell_type": "markdown",
   "metadata": {},
   "source": [
    "# 3. Frontera eficiente"
   ]
  },
  {
   "cell_type": "code",
   "execution_count": 233,
   "metadata": {},
   "outputs": [
    {
     "data": {
      "image/png": "[encoded data removed]",
      "text/plain": [
       "<Figure size 432x288 with 1 Axes>"
      ]
     },
     "metadata": {
      "image/png": {
       "height": 248,
       "width": 378
      },
      "needs_background": "light"
     },
     "output_type": "display_data"
    }
   ],
   "source": [
    "rend_ports = rend.mean() * 252\n",
    "r_min = port_rend(wp0, rend)\n",
    "r_max = rend_ports.max()\n",
    "\n",
    "rend_max = np.linspace(r_min, r_max)\n",
    "\n",
    "pesos_optimos = []\n",
    "for e in rend_max:\n",
    "    constraints = [\n",
    "        {\"type\": \"eq\", \"fun\": sum_weights},\n",
    "        {\"type\": \"eq\", \"fun\": lambda w: rend_esperado(w, e)}\n",
    "    ]\n",
    "\n",
    "    port1 = minimize(port_vol, w0, constraints=constraints, args=rend)\n",
    "    w_opt = port1.x\n",
    "    pesos_optimos.append(w_opt)\n",
    "\n",
    "r_opt = []\n",
    "v_opt = []\n",
    "for w in pesos_optimos:\n",
    "    r_opt.append(port_rend(w, rend))\n",
    "    v_opt.append(port_vol(w, rend))\n",
    "\n",
    "r_opt = np.array(r_opt)\n",
    "v_opt = np.array(v_opt)\n",
    "\n",
    "plt.scatter(v_opt, r_opt, label=\"Frontera eficiente\");\n",
    "plt.legend(fontsize=12);"
   ]
  },
  {
   "cell_type": "code",
   "execution_count": 234,
   "metadata": {},
   "outputs": [],
   "source": [
    "def min_func_sharpe(weights):\n",
    "    return - (port_rend(weights, rend) - rf) / port_vol(weights, rend)\n",
    "\n",
    "constraints = [\n",
    "    {\"type\": \"eq\", \"fun\": sum_weights},\n",
    "    {\"type\": \"ineq\", \"fun\": lambda w: -rend_esperado(w, r_max)}\n",
    "]\n",
    "\n",
    "f_sharpe = minimize(min_func_sharpe, w0, constraints=constraints)"
   ]
  },
  {
   "cell_type": "markdown",
   "metadata": {},
   "source": [
    "# 4. Portafolio riesgoso óptimo"
   ]
  },
  {
   "cell_type": "code",
   "execution_count": 235,
   "metadata": {},
   "outputs": [
    {
     "data": {
      "image/png": "[encoded data removed]",
      "text/plain": [
       "<Figure size 432x288 with 1 Axes>"
      ]
     },
     "metadata": {
      "image/png": {
       "height": 248,
       "width": 378
      },
      "needs_background": "light"
     },
     "output_type": "display_data"
    }
   ],
   "source": [
    "w_sharpe = f_sharpe.x\n",
    "e_sharpe = port_rend(w_sharpe, rend)\n",
    "vol_sharpe = port_vol(w_sharpe, rend)\n",
    "\n",
    "sigma_c =  np.linspace(0, 0.25)\n",
    "sharpe = rf + sigma_c * (e_sharpe - rf) / vol_sharpe\n",
    "\n",
    "plt.plot(sigma_c, sharpe, linestyle=\"--\", c=\"tab:orange\", label=\"Capital Allocation Line\");\n",
    "plt.plot(v_opt, r_opt);\n",
    "plt.plot([vol_sharpe], [e_sharpe], marker='o', markersize=3, color=\"black\");\n",
    "plt.legend(fontsize=12);"
   ]
  },
  {
   "cell_type": "markdown",
   "metadata": {},
   "source": [
    "# 5. Portafolio riesgoso y activo libre de riesgo"
   ]
  },
  {
   "cell_type": "code",
   "execution_count": 238,
   "metadata": {},
   "outputs": [
    {
     "name": "stdout",
     "output_type": "stream",
     "text": [
      "La proporción a invertir en el portafolio riesgoso es de 74.18%\n"
     ]
    }
   ],
   "source": [
    "y_star = (e_sharpe - rf) / (A_riesgo * vol_sharpe **2)\n",
    "print(f\"La proporción a invertir en el portafolio riesgoso es de {round(y_star * 100,2)}%\")"
   ]
  },
  {
   "cell_type": "markdown",
   "metadata": {},
   "source": [
    "# 6. ¿En qué escenarios usarías una red neuronal?"
   ]
  },
  {
   "cell_type": "markdown",
   "metadata": {},
   "source": [
    "Utilizaría una red neuronal en los siguientes escenarios:  \n",
    "- Se dispone de mucha información  \n",
    "- La precisión de los resultados es fundamental  \n",
    "- Se dispone de poder computacional"
   ]
  },
  {
   "cell_type": "markdown",
   "metadata": {},
   "source": [
    "# 7. ¿En qué escenarios no usarías una red neuronal?"
   ]
  },
  {
   "cell_type": "markdown",
   "metadata": {},
   "source": [
    "No utilizaría una red neuronal en los siguientes escenarios:  \n",
    "- Se dispone de información limitada  \n",
    "- Se busca interpretar los resultados del modelo"
   ]
  },
  {
   "cell_type": "markdown",
   "metadata": {},
   "source": [
    "# 8. Menciona tres funciones de activación para una red neuronal feed-forward"
   ]
  },
  {
   "cell_type": "markdown",
   "metadata": {},
   "source": [
    "1) RELU  \n",
    "2) Sigmoidal    \n",
    "3) Gaussiana"
   ]
  },
  {
   "cell_type": "markdown",
   "metadata": {},
   "source": [
    "# 9. ¿Qué es el método de backpropagation?"
   ]
  },
  {
   "cell_type": "markdown",
   "metadata": {},
   "source": [
    "Algoritmo utilizado para ajustar los pesos de una red neuronal. Los ajustes se realizan mediante iteraciones que minimizan una función de error, comenzando en las últimas capas y yendo hacia atrás"
   ]
  },
  {
   "cell_type": "markdown",
   "metadata": {},
   "source": [
    "# 10. ¿En qué difiere una red neuronal feed-forward de una red neuronal convolucional?"
   ]
  },
  {
   "cell_type": "markdown",
   "metadata": {},
   "source": [
    "En una red neuronal feed forward las neuronas de una capa están conectadas secuencialmente a las neuronas de la siguiente capa. Las redes convolucionales son aquellas en las que se aplican filtros para capturar características específicas."
   ]
  }
 ],
 "metadata": {
  "kernelspec": {
   "display_name": "Python 3",
   "language": "python",
   "name": "python3"
  },
  "language_info": {
   "codemirror_mode": {
    "name": "ipython",
    "version": 3
   },
   "file_extension": ".py",
   "mimetype": "text/x-python",
   "name": "python",
   "nbconvert_exporter": "python",
   "pygments_lexer": "ipython3",
   "version": "3.7.4"
  }
 },
 "nbformat": 4,
 "nbformat_minor": 2
}
