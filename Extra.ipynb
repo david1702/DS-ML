{
 "cells": [
  {
   "cell_type": "code",
   "execution_count": 1,
   "metadata": {},
   "outputs": [],
   "source": [
    "import quandl\n",
    "quandl.ApiConfig.api_key = 'rc8dcATnmTcoCa7bKBCm'"
   ]
  },
  {
   "cell_type": "code",
   "execution_count": 21,
   "metadata": {},
   "outputs": [],
   "source": [
    "import pandas as pd\n",
    "import matplotlib.pyplot as plt\n",
    "from datetime import datetime, timedelta"
   ]
  },
  {
   "cell_type": "code",
   "execution_count": 4,
   "metadata": {},
   "outputs": [
    {
     "data": {
      "text/html": [
       "<div>\n",
       "<style scoped>\n",
       "    .dataframe tbody tr th:only-of-type {\n",
       "        vertical-align: middle;\n",
       "    }\n",
       "\n",
       "    .dataframe tbody tr th {\n",
       "        vertical-align: top;\n",
       "    }\n",
       "\n",
       "    .dataframe thead th {\n",
       "        text-align: right;\n",
       "    }\n",
       "</style>\n",
       "<table border=\"1\" class=\"dataframe\">\n",
       "  <thead>\n",
       "    <tr style=\"text-align: right;\">\n",
       "      <th></th>\n",
       "      <th>Open</th>\n",
       "      <th>High</th>\n",
       "      <th>Low</th>\n",
       "      <th>Close</th>\n",
       "      <th>Volume</th>\n",
       "      <th>Dividend</th>\n",
       "      <th>Split</th>\n",
       "      <th>Adj_Open</th>\n",
       "      <th>Adj_High</th>\n",
       "      <th>Adj_Low</th>\n",
       "      <th>Adj_Close</th>\n",
       "      <th>Adj_Volume</th>\n",
       "    </tr>\n",
       "    <tr>\n",
       "      <th>Date</th>\n",
       "      <th></th>\n",
       "      <th></th>\n",
       "      <th></th>\n",
       "      <th></th>\n",
       "      <th></th>\n",
       "      <th></th>\n",
       "      <th></th>\n",
       "      <th></th>\n",
       "      <th></th>\n",
       "      <th></th>\n",
       "      <th></th>\n",
       "      <th></th>\n",
       "    </tr>\n",
       "  </thead>\n",
       "  <tbody>\n",
       "    <tr>\n",
       "      <td>2013-09-03</td>\n",
       "      <td>493.10</td>\n",
       "      <td>500.60</td>\n",
       "      <td>487.35</td>\n",
       "      <td>488.580</td>\n",
       "      <td>11854600.0</td>\n",
       "      <td>0.0</td>\n",
       "      <td>1.0</td>\n",
       "      <td>63.019032</td>\n",
       "      <td>63.977544</td>\n",
       "      <td>62.284172</td>\n",
       "      <td>62.441368</td>\n",
       "      <td>82982200.0</td>\n",
       "    </tr>\n",
       "    <tr>\n",
       "      <td>2013-09-04</td>\n",
       "      <td>499.56</td>\n",
       "      <td>502.24</td>\n",
       "      <td>496.28</td>\n",
       "      <td>498.691</td>\n",
       "      <td>12322600.0</td>\n",
       "      <td>0.0</td>\n",
       "      <td>1.0</td>\n",
       "      <td>63.844631</td>\n",
       "      <td>64.187139</td>\n",
       "      <td>63.425441</td>\n",
       "      <td>63.733571</td>\n",
       "      <td>86258200.0</td>\n",
       "    </tr>\n",
       "    <tr>\n",
       "      <td>2013-09-05</td>\n",
       "      <td>500.25</td>\n",
       "      <td>500.68</td>\n",
       "      <td>493.64</td>\n",
       "      <td>495.270</td>\n",
       "      <td>8441700.0</td>\n",
       "      <td>0.0</td>\n",
       "      <td>1.0</td>\n",
       "      <td>63.932814</td>\n",
       "      <td>63.987769</td>\n",
       "      <td>63.088044</td>\n",
       "      <td>63.296361</td>\n",
       "      <td>59091900.0</td>\n",
       "    </tr>\n",
       "    <tr>\n",
       "      <td>2013-09-06</td>\n",
       "      <td>498.44</td>\n",
       "      <td>499.38</td>\n",
       "      <td>489.95</td>\n",
       "      <td>498.220</td>\n",
       "      <td>12840200.0</td>\n",
       "      <td>0.0</td>\n",
       "      <td>1.0</td>\n",
       "      <td>63.701493</td>\n",
       "      <td>63.821626</td>\n",
       "      <td>62.616456</td>\n",
       "      <td>63.673376</td>\n",
       "      <td>89881400.0</td>\n",
       "    </tr>\n",
       "    <tr>\n",
       "      <td>2013-09-09</td>\n",
       "      <td>505.00</td>\n",
       "      <td>507.92</td>\n",
       "      <td>503.48</td>\n",
       "      <td>506.170</td>\n",
       "      <td>12167400.0</td>\n",
       "      <td>0.0</td>\n",
       "      <td>1.0</td>\n",
       "      <td>64.539872</td>\n",
       "      <td>64.913053</td>\n",
       "      <td>64.345613</td>\n",
       "      <td>64.689400</td>\n",
       "      <td>85171800.0</td>\n",
       "    </tr>\n",
       "  </tbody>\n",
       "</table>\n",
       "</div>"
      ],
      "text/plain": [
       "              Open    High     Low    Close      Volume  Dividend  Split  \\\n",
       "Date                                                                       \n",
       "2013-09-03  493.10  500.60  487.35  488.580  11854600.0       0.0    1.0   \n",
       "2013-09-04  499.56  502.24  496.28  498.691  12322600.0       0.0    1.0   \n",
       "2013-09-05  500.25  500.68  493.64  495.270   8441700.0       0.0    1.0   \n",
       "2013-09-06  498.44  499.38  489.95  498.220  12840200.0       0.0    1.0   \n",
       "2013-09-09  505.00  507.92  503.48  506.170  12167400.0       0.0    1.0   \n",
       "\n",
       "             Adj_Open   Adj_High    Adj_Low  Adj_Close  Adj_Volume  \n",
       "Date                                                                \n",
       "2013-09-03  63.019032  63.977544  62.284172  62.441368  82982200.0  \n",
       "2013-09-04  63.844631  64.187139  63.425441  63.733571  86258200.0  \n",
       "2013-09-05  63.932814  63.987769  63.088044  63.296361  59091900.0  \n",
       "2013-09-06  63.701493  63.821626  62.616456  63.673376  89881400.0  \n",
       "2013-09-09  64.539872  64.913053  64.345613  64.689400  85171800.0  "
      ]
     },
     "execution_count": 4,
     "metadata": {},
     "output_type": "execute_result"
    }
   ],
   "source": [
    "aapl = quandl.get('EOD/AAPL')\n",
    "mstf = quandl.get('EOD/MSFT')\n",
    "nke = quandl.get('EOD/NKE')\n",
    "v = quandl.get('EOD/V')\n",
    "aapl.head()"
   ]
  },
  {
   "cell_type": "code",
   "execution_count": 62,
   "metadata": {},
   "outputs": [
    {
     "data": {
      "text/html": [
       "<div>\n",
       "<style scoped>\n",
       "    .dataframe tbody tr th:only-of-type {\n",
       "        vertical-align: middle;\n",
       "    }\n",
       "\n",
       "    .dataframe tbody tr th {\n",
       "        vertical-align: top;\n",
       "    }\n",
       "\n",
       "    .dataframe thead th {\n",
       "        text-align: right;\n",
       "    }\n",
       "</style>\n",
       "<table border=\"1\" class=\"dataframe\">\n",
       "  <thead>\n",
       "    <tr style=\"text-align: right;\">\n",
       "      <th></th>\n",
       "      <th>AAPL</th>\n",
       "      <th>MSTF</th>\n",
       "      <th>NKE</th>\n",
       "      <th>V</th>\n",
       "    </tr>\n",
       "    <tr>\n",
       "      <th>Date</th>\n",
       "      <th></th>\n",
       "      <th></th>\n",
       "      <th></th>\n",
       "      <th></th>\n",
       "    </tr>\n",
       "  </thead>\n",
       "  <tbody>\n",
       "    <tr>\n",
       "      <td>2013-09-03</td>\n",
       "      <td>62.441368</td>\n",
       "      <td>27.747702</td>\n",
       "      <td>29.892500</td>\n",
       "      <td>42.413492</td>\n",
       "    </tr>\n",
       "    <tr>\n",
       "      <td>2013-09-04</td>\n",
       "      <td>63.733571</td>\n",
       "      <td>27.151492</td>\n",
       "      <td>30.283069</td>\n",
       "      <td>42.214626</td>\n",
       "    </tr>\n",
       "    <tr>\n",
       "      <td>2013-09-05</td>\n",
       "      <td>63.296361</td>\n",
       "      <td>27.186307</td>\n",
       "      <td>30.399310</td>\n",
       "      <td>42.219418</td>\n",
       "    </tr>\n",
       "    <tr>\n",
       "      <td>2013-09-06</td>\n",
       "      <td>63.673376</td>\n",
       "      <td>27.114065</td>\n",
       "      <td>30.213325</td>\n",
       "      <td>42.329633</td>\n",
       "    </tr>\n",
       "    <tr>\n",
       "      <td>2013-09-09</td>\n",
       "      <td>64.689400</td>\n",
       "      <td>27.551866</td>\n",
       "      <td>30.408609</td>\n",
       "      <td>42.780075</td>\n",
       "    </tr>\n",
       "  </tbody>\n",
       "</table>\n",
       "</div>"
      ],
      "text/plain": [
       "                 AAPL       MSTF        NKE          V\n",
       "Date                                                  \n",
       "2013-09-03  62.441368  27.747702  29.892500  42.413492\n",
       "2013-09-04  63.733571  27.151492  30.283069  42.214626\n",
       "2013-09-05  63.296361  27.186307  30.399310  42.219418\n",
       "2013-09-06  63.673376  27.114065  30.213325  42.329633\n",
       "2013-09-09  64.689400  27.551866  30.408609  42.780075"
      ]
     },
     "execution_count": 62,
     "metadata": {},
     "output_type": "execute_result"
    }
   ],
   "source": [
    "df = pd.DataFrame({\"AAPL\": aapl[\"Adj_Close\"],\n",
    "                   \"MSTF\": mstf[\"Adj_Close\"],\n",
    "                   \"NKE\": nke[\"Adj_Close\"],\n",
    "                   \"V\": v[\"Adj_Close\"]}, index=aapl.index)\n",
    "df.head()"
   ]
  },
  {
   "cell_type": "code",
   "execution_count": 13,
   "metadata": {},
   "outputs": [
    {
     "data": {
      "image/png": "[encoded data removed]",
      "text/plain": [
       "<Figure size 432x288 with 1 Axes>"
      ]
     },
     "metadata": {
      "needs_background": "light"
     },
     "output_type": "display_data"
    }
   ],
   "source": [
    "df[\"AAPL\"].plot(label=\"AAPL\");\n",
    "df[\"MSTF\"].plot(label=\"MSTF\");\n",
    "df[\"NKE\"].plot(label=\"NKE\");\n",
    "df[\"V\"].plot(label=\"V\");\n",
    "plt.legend();"
   ]
  },
  {
   "cell_type": "code",
   "execution_count": 15,
   "metadata": {},
   "outputs": [
    {
     "data": {
      "image/png": "[encoded data removed]",
      "text/plain": [
       "<Figure size 432x288 with 1 Axes>"
      ]
     },
     "metadata": {
      "needs_background": "light"
     },
     "output_type": "display_data"
    }
   ],
   "source": [
    "r100 = df[\"NKE\"].rolling(100).mean()\n",
    "r30 = df[\"NKE\"].rolling(30).mean()\n",
    "r100.plot(label=\"SMA 100\");\n",
    "r30.plot(label=\"SMA 30\");\n",
    "df[\"NKE\"].plot(label=\"NKE\");\n",
    "plt.legend();"
   ]
  },
  {
   "cell_type": "code",
   "execution_count": 52,
   "metadata": {},
   "outputs": [
    {
     "data": {
      "image/png": "[encoded data removed]",
      "text/plain": [
       "<Figure size 432x288 with 1 Axes>"
      ]
     },
     "metadata": {
      "needs_background": "light"
     },
     "output_type": "display_data"
    }
   ],
   "source": [
    "r100_nonan = r100[\"2014-01-24\":]\n",
    "r30_nonan = r30[\"2014-01-24\":]\n",
    "\n",
    "if r100_nonan[\"2014-01-24\"] > r30_nonan[\"2014-01-24\"]:\n",
    "    r100_may = 1\n",
    "else:\n",
    "    r100_may = 0\n",
    "\n",
    "dates = []\n",
    "prices = []\n",
    "\n",
    "for i in r100_nonan.index:\n",
    "    if r100_may == 1 and r100_nonan[i] < r30_nonan[i]:\n",
    "        r100_may = 0\n",
    "        dates.append(i)\n",
    "        prices.append(df[\"NKE\"][i])\n",
    "    elif r100_may == 0 and r100_nonan[i] > r30_nonan[i]:\n",
    "        r100_may = 1\n",
    "        dates.append(i)\n",
    "        prices.append(df[\"NKE\"][i])\n",
    "\n",
    "df[\"NKE\"][\"2014-01-24\":].plot();\n",
    "plt.plot(dates, prices, 'ro');"
   ]
  },
  {
   "cell_type": "code",
   "execution_count": 63,
   "metadata": {},
   "outputs": [
    {
     "data": {
      "text/html": [
       "<div>\n",
       "<style scoped>\n",
       "    .dataframe tbody tr th:only-of-type {\n",
       "        vertical-align: middle;\n",
       "    }\n",
       "\n",
       "    .dataframe tbody tr th {\n",
       "        vertical-align: top;\n",
       "    }\n",
       "\n",
       "    .dataframe thead th {\n",
       "        text-align: right;\n",
       "    }\n",
       "</style>\n",
       "<table border=\"1\" class=\"dataframe\">\n",
       "  <thead>\n",
       "    <tr style=\"text-align: right;\">\n",
       "      <th></th>\n",
       "      <th>AAPL</th>\n",
       "      <th>MSTF</th>\n",
       "      <th>NKE</th>\n",
       "      <th>V</th>\n",
       "    </tr>\n",
       "    <tr>\n",
       "      <th>Date</th>\n",
       "      <th></th>\n",
       "      <th></th>\n",
       "      <th></th>\n",
       "      <th></th>\n",
       "    </tr>\n",
       "  </thead>\n",
       "  <tbody>\n",
       "    <tr>\n",
       "      <td>2013-09-04</td>\n",
       "      <td>0.020695</td>\n",
       "      <td>-0.021487</td>\n",
       "      <td>0.013066</td>\n",
       "      <td>-0.004689</td>\n",
       "    </tr>\n",
       "    <tr>\n",
       "      <td>2013-09-05</td>\n",
       "      <td>-0.006860</td>\n",
       "      <td>0.001282</td>\n",
       "      <td>0.003838</td>\n",
       "      <td>0.000114</td>\n",
       "    </tr>\n",
       "    <tr>\n",
       "      <td>2013-09-06</td>\n",
       "      <td>0.005956</td>\n",
       "      <td>-0.002657</td>\n",
       "      <td>-0.006118</td>\n",
       "      <td>0.002611</td>\n",
       "    </tr>\n",
       "    <tr>\n",
       "      <td>2013-09-09</td>\n",
       "      <td>0.015957</td>\n",
       "      <td>0.016147</td>\n",
       "      <td>0.006464</td>\n",
       "      <td>0.010641</td>\n",
       "    </tr>\n",
       "    <tr>\n",
       "      <td>2013-09-10</td>\n",
       "      <td>-0.022779</td>\n",
       "      <td>0.023219</td>\n",
       "      <td>0.021713</td>\n",
       "      <td>0.033828</td>\n",
       "    </tr>\n",
       "    <tr>\n",
       "      <td>...</td>\n",
       "      <td>...</td>\n",
       "      <td>...</td>\n",
       "      <td>...</td>\n",
       "      <td>...</td>\n",
       "    </tr>\n",
       "    <tr>\n",
       "      <td>2017-12-21</td>\n",
       "      <td>0.003785</td>\n",
       "      <td>-0.000234</td>\n",
       "      <td>0.018556</td>\n",
       "      <td>0.002587</td>\n",
       "    </tr>\n",
       "    <tr>\n",
       "      <td>2017-12-22</td>\n",
       "      <td>0.000000</td>\n",
       "      <td>0.000117</td>\n",
       "      <td>-0.022850</td>\n",
       "      <td>0.002491</td>\n",
       "    </tr>\n",
       "    <tr>\n",
       "      <td>2017-12-26</td>\n",
       "      <td>-0.025370</td>\n",
       "      <td>-0.001286</td>\n",
       "      <td>0.005688</td>\n",
       "      <td>0.002662</td>\n",
       "    </tr>\n",
       "    <tr>\n",
       "      <td>2017-12-27</td>\n",
       "      <td>0.000176</td>\n",
       "      <td>0.003630</td>\n",
       "      <td>-0.010998</td>\n",
       "      <td>0.009116</td>\n",
       "    </tr>\n",
       "    <tr>\n",
       "      <td>2017-12-28</td>\n",
       "      <td>0.002814</td>\n",
       "      <td>0.000117</td>\n",
       "      <td>0.000000</td>\n",
       "      <td>0.002894</td>\n",
       "    </tr>\n",
       "  </tbody>\n",
       "</table>\n",
       "<p>1089 rows × 4 columns</p>\n",
       "</div>"
      ],
      "text/plain": [
       "                AAPL      MSTF       NKE         V\n",
       "Date                                              \n",
       "2013-09-04  0.020695 -0.021487  0.013066 -0.004689\n",
       "2013-09-05 -0.006860  0.001282  0.003838  0.000114\n",
       "2013-09-06  0.005956 -0.002657 -0.006118  0.002611\n",
       "2013-09-09  0.015957  0.016147  0.006464  0.010641\n",
       "2013-09-10 -0.022779  0.023219  0.021713  0.033828\n",
       "...              ...       ...       ...       ...\n",
       "2017-12-21  0.003785 -0.000234  0.018556  0.002587\n",
       "2017-12-22  0.000000  0.000117 -0.022850  0.002491\n",
       "2017-12-26 -0.025370 -0.001286  0.005688  0.002662\n",
       "2017-12-27  0.000176  0.003630 -0.010998  0.009116\n",
       "2017-12-28  0.002814  0.000117  0.000000  0.002894\n",
       "\n",
       "[1089 rows x 4 columns]"
      ]
     },
     "execution_count": 63,
     "metadata": {},
     "output_type": "execute_result"
    }
   ],
   "source": [
    "tick = [\"AAPL\", \"MSTF\", \"NKE\", \"V\"]\n",
    "df_rend = df\n",
    "df.bfill()\n",
    "df_s = df.shift(1)\n",
    "for t in tick:\n",
    "    df_rend[t] = (df[t] - df_s[t]) / df_s[t]\n",
    "df_rend = df_rend.drop(df_rend.index[0])\n",
    "df_rend"
   ]
  },
  {
   "cell_type": "code",
   "execution_count": 64,
   "metadata": {},
   "outputs": [
    {
     "data": {
      "text/plain": [
       "AAPL    0.001000\n",
       "MSTF    0.001103\n",
       "NKE     0.000757\n",
       "V       0.000978\n",
       "Name: daily, dtype: float64"
      ]
     },
     "execution_count": 64,
     "metadata": {},
     "output_type": "execute_result"
    }
   ],
   "source": [
    "datos = []\n",
    "index = []\n",
    "for t in tick:\n",
    "    datos.append(df_rend[t].mean())\n",
    "    index.append(t)\n",
    "rends = pd.Series(datos, index=index, name=\"daily\")\n",
    "rends"
   ]
  },
  {
   "cell_type": "code",
   "execution_count": 65,
   "metadata": {},
   "outputs": [
    {
     "data": {
      "text/plain": [
       "AAPL    0.252123\n",
       "MSTF    0.277918\n",
       "NKE     0.190799\n",
       "V       0.246471\n",
       "Name: daily, dtype: float64"
      ]
     },
     "execution_count": 65,
     "metadata": {},
     "output_type": "execute_result"
    }
   ],
   "source": [
    "rends_an = rends * 252\n",
    "rends_an"
   ]
  },
  {
   "cell_type": "code",
   "execution_count": 68,
   "metadata": {},
   "outputs": [],
   "source": [
    "# Generación de ponderadores aleatorios\n",
    "from random import seed\n",
    "import numpy as np\n",
    "\n",
    "seed(314)\n",
    "w = np.random.random(size=4)\n",
    "w = w / w.sum()"
   ]
  },
  {
   "cell_type": "code",
   "execution_count": 69,
   "metadata": {},
   "outputs": [
    {
     "data": {
      "text/plain": [
       "0.0009117019163476485"
      ]
     },
     "execution_count": 69,
     "metadata": {},
     "output_type": "execute_result"
    }
   ],
   "source": [
    "np.dot(w, rends)"
   ]
  },
  {
   "cell_type": "code",
   "execution_count": 70,
   "metadata": {},
   "outputs": [
    {
     "data": {
      "text/plain": [
       "0.2297488829196074"
      ]
     },
     "execution_count": 70,
     "metadata": {},
     "output_type": "execute_result"
    }
   ],
   "source": [
    "np.dot(w, rends_an)"
   ]
  },
  {
   "cell_type": "code",
   "execution_count": 76,
   "metadata": {},
   "outputs": [
    {
     "data": {
      "text/html": [
       "<div>\n",
       "<style scoped>\n",
       "    .dataframe tbody tr th:only-of-type {\n",
       "        vertical-align: middle;\n",
       "    }\n",
       "\n",
       "    .dataframe tbody tr th {\n",
       "        vertical-align: top;\n",
       "    }\n",
       "\n",
       "    .dataframe thead th {\n",
       "        text-align: right;\n",
       "    }\n",
       "</style>\n",
       "<table border=\"1\" class=\"dataframe\">\n",
       "  <thead>\n",
       "    <tr style=\"text-align: right;\">\n",
       "      <th></th>\n",
       "      <th>AAPL</th>\n",
       "      <th>MSTF</th>\n",
       "      <th>NKE</th>\n",
       "      <th>V</th>\n",
       "    </tr>\n",
       "  </thead>\n",
       "  <tbody>\n",
       "    <tr>\n",
       "      <td>AAPL</td>\n",
       "      <td>12.958800</td>\n",
       "      <td>5.022185</td>\n",
       "      <td>3.308254</td>\n",
       "      <td>3.847103</td>\n",
       "    </tr>\n",
       "    <tr>\n",
       "      <td>MSTF</td>\n",
       "      <td>5.022185</td>\n",
       "      <td>11.848638</td>\n",
       "      <td>3.726985</td>\n",
       "      <td>5.105105</td>\n",
       "    </tr>\n",
       "    <tr>\n",
       "      <td>NKE</td>\n",
       "      <td>3.308254</td>\n",
       "      <td>3.726985</td>\n",
       "      <td>11.939464</td>\n",
       "      <td>4.223672</td>\n",
       "    </tr>\n",
       "    <tr>\n",
       "      <td>V</td>\n",
       "      <td>3.847103</td>\n",
       "      <td>5.105105</td>\n",
       "      <td>4.223672</td>\n",
       "      <td>9.892338</td>\n",
       "    </tr>\n",
       "  </tbody>\n",
       "</table>\n",
       "</div>"
      ],
      "text/plain": [
       "           AAPL       MSTF        NKE         V\n",
       "AAPL  12.958800   5.022185   3.308254  3.847103\n",
       "MSTF   5.022185  11.848638   3.726985  5.105105\n",
       "NKE    3.308254   3.726985  11.939464  4.223672\n",
       "V      3.847103   5.105105   4.223672  9.892338"
      ]
     },
     "execution_count": 76,
     "metadata": {},
     "output_type": "execute_result"
    }
   ],
   "source": [
    "m_cov = (df_rend * 252).cov()\n",
    "m_cov"
   ]
  },
  {
   "cell_type": "code",
   "execution_count": 80,
   "metadata": {},
   "outputs": [
    {
     "data": {
      "text/plain": [
       "3573.390965057385"
      ]
     },
     "execution_count": 80,
     "metadata": {},
     "output_type": "execute_result"
    }
   ],
   "source": [
    "var = np.dot(np.dot(w.T, m_cov), w)\n",
    "var"
   ]
  },
  {
   "cell_type": "code",
   "execution_count": 81,
   "metadata": {},
   "outputs": [
    {
     "data": {
      "text/plain": [
       "59.77784677501679"
      ]
     },
     "execution_count": 81,
     "metadata": {},
     "output_type": "execute_result"
    }
   ],
   "source": [
    "desv = var ** 0.5\n",
    "desv"
   ]
  },
  {
   "cell_type": "code",
   "execution_count": null,
   "metadata": {},
   "outputs": [],
   "source": [
    "#¿Cuándo Usamos Numpy y cuando Pandas?\n",
    "#Usamos Numpy cuando tenemos un arreglo de valores del mismo tipo, mientras que pandas agrupa 'columnas' de distintos tipos de valores\n",
    "\n",
    "#¿Qué es el axis en numpy/pandas?\n",
    "#Indica el eje (vertical / horizontal, x / y, filas / columnas)\n",
    "\n",
    "#¿Cuándo usar webscrapping y cuándo un API?\n",
    "#Webscrapping se usa cuando queremos automatizar la extracción de información de una página Web a través de su código fuente\n",
    "#Los APIS se utilizan para obtener bloques predefinidos de información (tales como precios diarios de acciones)"
   ]
  }
 ],
 "metadata": {
  "kernelspec": {
   "display_name": "Python 3",
   "language": "python",
   "name": "python3"
  },
  "language_info": {
   "codemirror_mode": {
    "name": "ipython",
    "version": 3
   },
   "file_extension": ".py",
   "mimetype": "text/x-python",
   "name": "python",
   "nbconvert_exporter": "python",
   "pygments_lexer": "ipython3",
   "version": "3.7.4"
  }
 },
 "nbformat": 4,
 "nbformat_minor": 2
}
